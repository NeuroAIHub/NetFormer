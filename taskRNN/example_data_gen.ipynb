{
 "cells": [
  {
   "cell_type": "markdown",
   "metadata": {},
   "source": [
    "## Pytorch supervised learning of perceptual decision making task\n",
    "\n",
    "Pytorch-based example code for training a RNN on a perceptual decision-making task."
   ]
  },
  {
   "cell_type": "markdown",
   "metadata": {},
   "source": [
    "### Dataset"
   ]
  },
  {
   "cell_type": "code",
   "execution_count": 1,
   "metadata": {},
   "outputs": [],
   "source": [
    "import numpy as np\n",
    "import torch\n",
    "import torch.nn as nn\n",
    "import json\n",
    "import neurogym as ngym\n",
    "import gym\n",
    "import pandas as pd\n",
    "import matplotlib.pyplot as plt"
   ]
  },
  {
   "cell_type": "code",
   "execution_count": null,
   "metadata": {},
   "outputs": [],
   "source": [
    "# Environment\n",
    "task = 'GoNogo-v0'  # 'PerceptualDecisionMaking-v0', 'DelayComparison-v0'\n",
    "kwargs = {'dt': 100}\n",
    "seq_len = 100\n",
    "\n",
    "# Make supervised dataset\n",
    "dataset = ngym.Dataset(task, env_kwargs=kwargs, batch_size=32,\n",
    "                       seq_len=seq_len)\n",
    "env = dataset.env\n",
    "ob_size = env.observation_space.shape[0]\n",
    "act_size = env.action_space.n"
   ]
  },
  {
   "cell_type": "markdown",
   "metadata": {},
   "source": [
    "### Network and Training"
   ]
  },
  {
   "cell_type": "code",
   "execution_count": 3,
   "metadata": {},
   "outputs": [
    {
     "name": "stdout",
     "output_type": "stream",
     "text": [
      "200 loss: 0.28027\n",
      "400 loss: 0.22989\n",
      "600 loss: 0.22902\n",
      "800 loss: 0.22769\n",
      "1000 loss: 0.06301\n",
      "1200 loss: 0.02177\n",
      "1400 loss: 0.02070\n",
      "1600 loss: 0.02067\n",
      "1800 loss: 0.02030\n",
      "2000 loss: 0.02056\n",
      "Finished Training\n"
     ]
    }
   ],
   "source": [
    "class Net(nn.Module):\n",
    "    def __init__(self, num_h):\n",
    "        super(Net, self).__init__()\n",
    "        self.rnn = nn.RNN(ob_size, num_h)\n",
    "        self.linear = nn.Linear(num_h, act_size)\n",
    "\n",
    "    def forward(self, x):\n",
    "        out, hidden = self.rnn(x)\n",
    "        x = self.linear(out)\n",
    "        return x, out\n",
    "\n",
    "device = 'cuda' if torch.cuda.is_available() else 'cpu'\n",
    "net = Net(num_h=8).to(device)\n",
    "criterion = nn.CrossEntropyLoss()\n",
    "optimizer = torch.optim.Adam(net.parameters(), lr=1e-2)\n",
    "\n",
    "running_loss = 0.0\n",
    "for i in range(2000):\n",
    "    inputs, labels = dataset()\n",
    "    inputs = torch.from_numpy(inputs).type(torch.float).to(device)\n",
    "    labels = torch.from_numpy(labels.flatten()).type(torch.long).to(device)\n",
    "    # print(inputs.shape, labels.shape)  # inputs: (seq_len, batch_size, 3), labels: seq_len * batch_size\n",
    "\n",
    "    # zero the parameter gradients\n",
    "    optimizer.zero_grad()\n",
    "\n",
    "    # forward + backward + optimize\n",
    "    outputs, _ = net(inputs)\n",
    "\n",
    "    loss = criterion(outputs.view(-1, act_size), labels)\n",
    "    loss.backward()\n",
    "    optimizer.step()\n",
    "\n",
    "    # print statistics\n",
    "    running_loss += loss.item()\n",
    "    if i % 200 == 199:\n",
    "        print('{:d} loss: {:0.5f}'.format(i + 1, running_loss / 200))\n",
    "        running_loss = 0.0\n",
    "\n",
    "print('Finished Training')"
   ]
  },
  {
   "cell_type": "code",
   "execution_count": 5,
   "metadata": {},
   "outputs": [],
   "source": [
    "torch.save(net.state_dict(), \"taskRNN_data/GoNogo/rnn8/rnn8_ep2000.pth\")"
   ]
  },
  {
   "cell_type": "code",
   "execution_count": 6,
   "metadata": {},
   "outputs": [],
   "source": [
    "config = {\n",
    "    'dt': 100,\n",
    "    'hidden_size': 8,\n",
    "    'lr': 1e-2,\n",
    "    'batch_size': 32,\n",
    "    'seq_len': 100,\n",
    "    'envid': task,\n",
    "}\n",
    "\n",
    "env_kwargs = {'dt': config['dt']}\n",
    "config['env_kwargs'] = env_kwargs\n",
    "\n",
    "# Save config\n",
    "with open('taskRNN_data/GoNogo/rnn8/config_rnn8.json', 'w') as f:\n",
    "    json.dump(config, f)"
   ]
  },
  {
   "cell_type": "code",
   "execution_count": 7,
   "metadata": {},
   "outputs": [],
   "source": [
    "def infer_test_timing(env):\n",
    "    \"\"\"Infer timing of environment for testing.\"\"\"\n",
    "    timing = {}\n",
    "    for period in env.timing.keys():\n",
    "        period_times = [env.sample_time(period) for _ in range(100)]\n",
    "        timing[period] = np.median(period_times)\n",
    "    return timing"
   ]
  },
  {
   "cell_type": "code",
   "execution_count": 8,
   "metadata": {},
   "outputs": [
    {
     "name": "stdout",
     "output_type": "stream",
     "text": [
      "{'fixation': 0.0, 'stimulus': 500.0, 'delay': 500.0, 'decision': 500.0}\n",
      "Average performance 1.0\n"
     ]
    }
   ],
   "source": [
    "\"\"\"Run trained networks for analysis.\n",
    "\n",
    "Args:\n",
    "    envid: str, Environment ID\n",
    "\n",
    "Returns:\n",
    "    activity: a list of activity matrices, each matrix has shape (\n",
    "    N_time, N_neuron)\n",
    "    info: pandas dataframe, each row is information of a trial\n",
    "    config: dict of network, training configurations\n",
    "\"\"\"\n",
    "with open('taskRNN_data/GoNogo/rnn8/config_rnn8.json') as f:\n",
    "    config = json.load(f)\n",
    "\n",
    "env_kwargs = config['env_kwargs']\n",
    "\n",
    "# Run network to get activity and info\n",
    "# Environment\n",
    "env = gym.make(task, **env_kwargs)\n",
    "env.timing = infer_test_timing(env)\n",
    "print(env.timing)\n",
    "env.reset(no_step=True)\n",
    "\n",
    "# Instantiate the network and print information\n",
    "with torch.no_grad():\n",
    "    net = Net(\n",
    "              num_h=config['hidden_size'],\n",
    "              )\n",
    "    net = net.to(device)\n",
    "    net.load_state_dict(torch.load('taskRNN_data/GoNogo/rnn8/rnn8_ep2000.pth'))\n",
    "\n",
    "    perf = 0\n",
    "    num_trial = 1000\n",
    "\n",
    "    activity_alltrials = list()\n",
    "    inputs_alltrials = list()\n",
    "    gt_alltrials = list()\n",
    "    action_pred_alltrials = list()\n",
    "    info = pd.DataFrame()\n",
    "\n",
    "    for i in range(num_trial):\n",
    "        env.new_trial()\n",
    "        ob, gt = env.ob, env.gt\n",
    "        inputs = torch.from_numpy(ob[:, np.newaxis, :]).type(torch.float)\n",
    "        action_pred, hidden = net(inputs)\n",
    "\n",
    "        # Compute performance\n",
    "        action_pred = action_pred.detach().numpy()\n",
    "        choice = np.argmax(action_pred[-1, 0, :])\n",
    "        correct = choice == gt[-1]\n",
    "\n",
    "        # Log trial info\n",
    "        trial_info = env.trial\n",
    "        trial_info.update({'correct': correct, 'choice': choice})\n",
    "        # info = info.append(trial_info, ignore_index=True)\n",
    "        info = pd.concat([info, pd.DataFrame([trial_info])], ignore_index=True)\n",
    "\n",
    "        # Log stimulus period activity\n",
    "        inputs_alltrials.append(inputs.numpy()[:, 0, :])\n",
    "        gt_alltrials.append(gt)\n",
    "        activity_alltrials.append(np.array(hidden)[:, 0, :])\n",
    "        action_pred_alltrials.append(action_pred)\n",
    "\n",
    "    print('Average performance', np.mean(info['correct']))"
   ]
  },
  {
   "cell_type": "code",
   "execution_count": 18,
   "metadata": {},
   "outputs": [
    {
     "data": {
      "text/html": [
       "<div>\n",
       "<style scoped>\n",
       "    .dataframe tbody tr th:only-of-type {\n",
       "        vertical-align: middle;\n",
       "    }\n",
       "\n",
       "    .dataframe tbody tr th {\n",
       "        vertical-align: top;\n",
       "    }\n",
       "\n",
       "    .dataframe thead th {\n",
       "        text-align: right;\n",
       "    }\n",
       "</style>\n",
       "<table border=\"1\" class=\"dataframe\">\n",
       "  <thead>\n",
       "    <tr style=\"text-align: right;\">\n",
       "      <th></th>\n",
       "      <th>ground_truth</th>\n",
       "      <th>correct</th>\n",
       "      <th>choice</th>\n",
       "    </tr>\n",
       "  </thead>\n",
       "  <tbody>\n",
       "    <tr>\n",
       "      <th>0</th>\n",
       "      <td>1</td>\n",
       "      <td>True</td>\n",
       "      <td>1</td>\n",
       "    </tr>\n",
       "    <tr>\n",
       "      <th>1</th>\n",
       "      <td>0</td>\n",
       "      <td>True</td>\n",
       "      <td>0</td>\n",
       "    </tr>\n",
       "    <tr>\n",
       "      <th>2</th>\n",
       "      <td>0</td>\n",
       "      <td>True</td>\n",
       "      <td>0</td>\n",
       "    </tr>\n",
       "    <tr>\n",
       "      <th>3</th>\n",
       "      <td>1</td>\n",
       "      <td>True</td>\n",
       "      <td>1</td>\n",
       "    </tr>\n",
       "    <tr>\n",
       "      <th>4</th>\n",
       "      <td>1</td>\n",
       "      <td>True</td>\n",
       "      <td>1</td>\n",
       "    </tr>\n",
       "    <tr>\n",
       "      <th>...</th>\n",
       "      <td>...</td>\n",
       "      <td>...</td>\n",
       "      <td>...</td>\n",
       "    </tr>\n",
       "    <tr>\n",
       "      <th>995</th>\n",
       "      <td>0</td>\n",
       "      <td>True</td>\n",
       "      <td>0</td>\n",
       "    </tr>\n",
       "    <tr>\n",
       "      <th>996</th>\n",
       "      <td>1</td>\n",
       "      <td>True</td>\n",
       "      <td>1</td>\n",
       "    </tr>\n",
       "    <tr>\n",
       "      <th>997</th>\n",
       "      <td>0</td>\n",
       "      <td>True</td>\n",
       "      <td>0</td>\n",
       "    </tr>\n",
       "    <tr>\n",
       "      <th>998</th>\n",
       "      <td>0</td>\n",
       "      <td>True</td>\n",
       "      <td>0</td>\n",
       "    </tr>\n",
       "    <tr>\n",
       "      <th>999</th>\n",
       "      <td>0</td>\n",
       "      <td>True</td>\n",
       "      <td>0</td>\n",
       "    </tr>\n",
       "  </tbody>\n",
       "</table>\n",
       "<p>1000 rows × 3 columns</p>\n",
       "</div>"
      ],
      "text/plain": [
       "     ground_truth  correct  choice\n",
       "0               1     True       1\n",
       "1               0     True       0\n",
       "2               0     True       0\n",
       "3               1     True       1\n",
       "4               1     True       1\n",
       "..            ...      ...     ...\n",
       "995             0     True       0\n",
       "996             1     True       1\n",
       "997             0     True       0\n",
       "998             0     True       0\n",
       "999             0     True       0\n",
       "\n",
       "[1000 rows x 3 columns]"
      ]
     },
     "execution_count": 18,
     "metadata": {},
     "output_type": "execute_result"
    }
   ],
   "source": [
    "info"
   ]
  },
  {
   "cell_type": "code",
   "execution_count": 9,
   "metadata": {},
   "outputs": [],
   "source": [
    "activity_alltrials = np.array(activity_alltrials)\n",
    "inputs_alltrials = np.array(inputs_alltrials)\n",
    "gt_alltrials = np.array(gt_alltrials)\n",
    "action_pred_alltrials = np.array(action_pred_alltrials)"
   ]
  },
  {
   "cell_type": "code",
   "execution_count": 10,
   "metadata": {},
   "outputs": [
    {
     "data": {
      "text/plain": [
       "((1000, 15, 8), (1000, 15, 3), (1000, 15), (1000, 15, 1, 2))"
      ]
     },
     "execution_count": 10,
     "metadata": {},
     "output_type": "execute_result"
    }
   ],
   "source": [
    "activity_alltrials.shape, inputs_alltrials.shape, gt_alltrials.shape, action_pred_alltrials.shape"
   ]
  },
  {
   "cell_type": "code",
   "execution_count": 11,
   "metadata": {},
   "outputs": [],
   "source": [
    "action_pred_alltrials = action_pred_alltrials[:, :, 0, :]"
   ]
  },
  {
   "cell_type": "code",
   "execution_count": 12,
   "metadata": {},
   "outputs": [
    {
     "data": {
      "text/plain": [
       "(1000, 15, 2)"
      ]
     },
     "execution_count": 12,
     "metadata": {},
     "output_type": "execute_result"
    }
   ],
   "source": [
    "action_pred_alltrials.shape"
   ]
  },
  {
   "cell_type": "code",
   "execution_count": 14,
   "metadata": {},
   "outputs": [],
   "source": [
    "np.save('taskRNN_data/GoNogo/rnn8/hidden_activity_alltrials.npy', activity_alltrials)\n",
    "np.save('taskRNN_data/GoNogo/rnn8/inputs_alltrials.npy', inputs_alltrials)\n",
    "np.save('taskRNN_data/GoNogo/rnn8/gt_alltrials.npy', gt_alltrials)\n",
    "np.save('taskRNN_data/GoNogo/rnn8/action_pred_alltrial.npy', action_pred_alltrials)"
   ]
  },
  {
   "cell_type": "code",
   "execution_count": 19,
   "metadata": {},
   "outputs": [],
   "source": [
    "HH_mat = net.rnn.weight_hh_l0.detach()"
   ]
  },
  {
   "cell_type": "code",
   "execution_count": 20,
   "metadata": {},
   "outputs": [
    {
     "data": {
      "text/plain": [
       "torch.Size([8, 8])"
      ]
     },
     "execution_count": 20,
     "metadata": {},
     "output_type": "execute_result"
    }
   ],
   "source": [
    "HH_mat.shape"
   ]
  },
  {
   "cell_type": "code",
   "execution_count": 21,
   "metadata": {},
   "outputs": [],
   "source": [
    "np.save('taskRNN_data/GoNogo/rnn8/W_hidden_GT.npy', HH_mat)"
   ]
  },
  {
   "cell_type": "code",
   "execution_count": null,
   "metadata": {},
   "outputs": [],
   "source": []
  }
 ],
 "metadata": {
  "kernelspec": {
   "display_name": "ml",
   "language": "python",
   "name": "ml"
  },
  "language_info": {
   "codemirror_mode": {
    "name": "ipython",
    "version": 3
   },
   "file_extension": ".py",
   "mimetype": "text/x-python",
   "name": "python",
   "nbconvert_exporter": "python",
   "pygments_lexer": "ipython3",
   "version": "3.9.15"
  }
 },
 "nbformat": 4,
 "nbformat_minor": 4
}
