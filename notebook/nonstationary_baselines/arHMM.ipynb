{
 "cells": [
  {
   "cell_type": "code",
   "execution_count": 1,
   "metadata": {},
   "outputs": [],
   "source": [
    "%load_ext autoreload\n",
    "%autoreload 2\n",
    "%matplotlib inline"
   ]
  },
  {
   "cell_type": "code",
   "execution_count": null,
   "metadata": {},
   "outputs": [],
   "source": [
    "import autograd.numpy as np\n",
    "import autograd.numpy.random as npr\n",
    "npr.seed(0)\n",
    "\n",
    "import matplotlib.pyplot as plt\n",
    "from matplotlib.colors import ListedColormap\n",
    "\n",
    "%matplotlib inline\n",
    "\n",
    "import seaborn as sns\n",
    "\n",
    "sns.set_style(\"white\")\n",
    "sns.set_context(\"talk\")\n",
    "\n",
    "color_names = [\"windows blue\",\n",
    "               \"red\",\n",
    "               \"amber\",\n",
    "               \"faded green\",\n",
    "               \"dusty purple\",\n",
    "               \"orange\",\n",
    "               \"clay\",\n",
    "               \"pink\",\n",
    "               \"greyish\",\n",
    "               \"mint\",\n",
    "               \"cyan\",\n",
    "               \"steel blue\",\n",
    "               \"forest green\",\n",
    "               \"pastel purple\",\n",
    "               \"salmon\",\n",
    "               \"dark brown\"]\n",
    "\n",
    "colors = sns.xkcd_palette(color_names)\n",
    "cmap = ListedColormap(colors)\n",
    "\n",
    "import ssm\n",
    "from ssm.util import random_rotation, find_permutation\n",
    "from ssm.plots import plot_dynamics_2d\n",
    "import ssm.hmm as hmm\n",
    "\n",
    "save_figures = False"
   ]
  },
  {
   "cell_type": "code",
   "execution_count": null,
   "metadata": {},
   "outputs": [],
   "source": [
    "import numpy as np\n",
    "from scipy import stats\n",
    "import matplotlib.pyplot as plt\n",
    "from sklearn.decomposition import PCA\n",
    "\n",
    "from NetFormer import tools, data"
   ]
  },
  {
   "cell_type": "code",
   "execution_count": 3,
   "metadata": {},
   "outputs": [],
   "source": [
    "plt.rcParams.update({\n",
    "    'axes.titlesize': 14,\n",
    "    'axes.labelsize': 14,\n",
    "    'xtick.labelsize': 14,\n",
    "    'ytick.labelsize': 14,\n",
    "    'font.size': 14\n",
    "})"
   ]
  },
  {
   "cell_type": "markdown",
   "metadata": {},
   "source": [
    "## Process Neural Data"
   ]
  },
  {
   "cell_type": "code",
   "execution_count": null,
   "metadata": {},
   "outputs": [
    {
     "name": "stdout",
     "output_type": "stream",
     "text": [
      "SB025/2019-10-23\n",
      "no normalization\n",
      "cell_type_order: ['EC', 'IN', 'Lamp5', 'Pvalb', 'Serpinf1', 'Sncg', 'Sst', 'Vip']\n"
     ]
    }
   ],
   "source": [
    "input_mouse = ['SB025']\n",
    "input_sessions = [['2019-10-23']]\n",
    "\n",
    "window_size = 60\n",
    "split_ratio = 0.8\n",
    "\n",
    "directory = '../../data/Mouse/Bugeon/'\n",
    "input_sessions_file_path = []\n",
    "for i in range(len(input_mouse)):\n",
    "    for j in range(len(input_sessions[i])):\n",
    "        input_sessions_file_path.append({'date_exp': input_mouse[i] + '/' + input_sessions[i][j] + '/', 'input_setting': 'Blank/01/'})\n",
    "        print(input_mouse[i] + '/' + input_sessions[i][j])\n",
    "\n",
    "all_sessions_original_UniqueID = []\n",
    "all_sessions_original_cell_type = []\n",
    "\n",
    "all_sessions_acitvity_TRAIN = []   # first 80% of the time\n",
    "all_sessions_acitvity_TEST = []\n",
    "\n",
    "all_sessions_state_TRAIN = []\n",
    "all_sessions_state_TEST = []\n",
    "\n",
    "num_neurons_per_session = []\n",
    "sessions_2_original_cell_type = []\n",
    "all_sessions_activity_flatten = []\n",
    "\n",
    "for i in range(len(input_sessions_file_path)):\n",
    "    date_exp = input_sessions_file_path[i]['date_exp']\n",
    "    input_setting = input_sessions_file_path[i]['input_setting']\n",
    "    activity, frame_states, frame_times, UniqueID, neuron_ttypes = data.load_mouse_data_session(\n",
    "        directory, date_exp, input_setting, normalization=\"no\"\n",
    "    )\n",
    "    frame_states = frame_states.flatten()\n",
    "\n",
    "    all_sessions_original_UniqueID.append(UniqueID)\n",
    "    all_sessions_acitvity_TRAIN.append(activity[:, :int(activity.shape[1]*split_ratio)])\n",
    "    all_sessions_acitvity_TEST.append(activity[:, int(activity.shape[1]*split_ratio):])\n",
    "    all_sessions_state_TRAIN.append(frame_states[:int(activity.shape[1]*split_ratio)])\n",
    "    all_sessions_state_TEST.append(frame_states[int(activity.shape[1]*split_ratio):])\n",
    "    num_neurons_per_session.append(activity.shape[0])\n",
    "    all_sessions_activity_flatten.append(activity.flatten())\n",
    "\n",
    "    # Get the first level of cell types\n",
    "    neuron_types_result = []\n",
    "    for j in range(len(neuron_ttypes)):\n",
    "        # split by \"-\"\n",
    "        neuron_types_result.append(neuron_ttypes[j].split(\"-\")[0])\n",
    "\n",
    "    sessions_2_original_cell_type.append(neuron_types_result)\n",
    "    all_sessions_original_cell_type.append(neuron_types_result)\n",
    "\n",
    "all_sessions_original_UniqueID = np.concatenate(all_sessions_original_UniqueID)\n",
    "all_sessions_original_cell_type = np.concatenate(all_sessions_original_cell_type)\n",
    "all_sessions_activity_flatten = np.concatenate(all_sessions_activity_flatten)\n",
    "mu = np.mean(all_sessions_activity_flatten)\n",
    "std = np.std(all_sessions_activity_flatten)\n",
    "\n",
    "# all_sessions normalization\n",
    "all_sessions_acitvity_TRAIN = [(session - mu) / std for session in all_sessions_acitvity_TRAIN]\n",
    "all_sessions_acitvity_TEST = [(session - mu) / std for session in all_sessions_acitvity_TEST]\n",
    "\n",
    "##############################################\n",
    "# Construct new UniqueID and cell type id\n",
    "##############################################\n",
    "\n",
    "all_sessions_new_UniqueID, num_unqiue_neurons = tools.assign_unique_neuron_ids(all_sessions_original_UniqueID, num_neurons_per_session)\n",
    "all_sessions_new_cell_type_id, cell_type_order = tools.assign_unique_cell_type_ids(all_sessions_original_cell_type, num_neurons_per_session)\n",
    "\n",
    "neuron_id_2_cell_type_id = np.zeros((num_unqiue_neurons,)).astype(int)\n",
    "for i in range(len(all_sessions_new_UniqueID)):\n",
    "    neuron_id_2_cell_type_id[all_sessions_new_UniqueID[i].astype(int)] = all_sessions_new_cell_type_id[i]"
   ]
  },
  {
   "cell_type": "code",
   "execution_count": null,
   "metadata": {},
   "outputs": [],
   "source": [
    "neural_data = all_sessions_acitvity_TRAIN[0]\n",
    "neural_data = neural_data.T\n",
    "\n",
    "state = all_sessions_state_TRAIN[0]\n",
    "state = state.astype(int)"
   ]
  },
  {
   "cell_type": "code",
   "execution_count": null,
   "metadata": {},
   "outputs": [
    {
     "data": {
      "image/png": "[encoded data removed]",
      "text/plain": [
       "<Figure size 640x480 with 2 Axes>"
      ]
     },
     "metadata": {},
     "output_type": "display_data"
    }
   ],
   "source": [
    "eval_cell_type_order = ['EC', 'Pvalb', 'Sst', 'Vip']\n",
    "\n",
    "KK_GT = np.zeros((4, 4))\n",
    "KK_GT[0, 0] = 0.11\n",
    "KK_GT[1, 0] = 0.27\n",
    "KK_GT[2, 0] = 0.1\n",
    "KK_GT[3, 0] = 0.45\n",
    "\n",
    "KK_GT[0, 1] = -0.44\n",
    "KK_GT[1, 1] = -0.47\n",
    "KK_GT[2, 1] = -0.44\n",
    "KK_GT[3, 1] = -0.23\n",
    "\n",
    "KK_GT[0, 2] = -0.16\n",
    "KK_GT[1, 2] = -0.18\n",
    "KK_GT[2, 2] = -0.19\n",
    "KK_GT[3, 2] = -0.17\n",
    "\n",
    "KK_GT[0, 3] = -0.06\n",
    "KK_GT[1, 3] = -0.10\n",
    "KK_GT[2, 3] = -0.17\n",
    "KK_GT[3, 3] = -0.10\n",
    "\n",
    "max_abs = np.max(np.abs(KK_GT))\n",
    "vmin_KK = -max_abs\n",
    "vmax_KK = max_abs\n",
    "\n",
    "plt.imshow(KK_GT, cmap='RdBu_r', vmin=vmin_KK, vmax=vmax_KK)\n",
    "plt.colorbar()\n",
    "plt.xticks([])\n",
    "plt.yticks([])\n",
    "plt.show()"
   ]
  },
  {
   "cell_type": "markdown",
   "metadata": {},
   "source": [
    "## Train arHMM"
   ]
  },
  {
   "cell_type": "code",
   "execution_count": null,
   "metadata": {},
   "outputs": [],
   "source": [
    "# Set the parameters of the arHMM and SLDS\n",
    "time_bins = 3154    # number of time bins\n",
    "n_disc_states = 3       # number of discrete states\n",
    "latent_dim = 527       # number of latent dimensions\n",
    "emissions_dim = 527      # number of observed dimensions\n",
    "\n",
    "N_iters = 50\n",
    "arhmm = hmm.HMM(\n",
    "    K=n_disc_states, D=latent_dim, observations=\"ar\"\n",
    ")\n",
    "\n",
    "arhmm_lls = arhmm.fit(neural_data, method=\"em\", num_iters=N_iters, init_method=\"kmeans\")\n",
    "most_likely_states = arhmm.most_likely_states(neural_data)\n",
    "\n",
    "arhmm.permute(find_permutation(state, most_likely_states))\n",
    "most_likely_states = arhmm.most_likely_states(neural_data)"
   ]
  },
  {
   "cell_type": "markdown",
   "metadata": {},
   "source": [
    "## Evaluate arHMM"
   ]
  },
  {
   "cell_type": "code",
   "execution_count": null,
   "metadata": {},
   "outputs": [],
   "source": [
    "arHMM_W = arhmm.observations.As\n",
    "arHMM_state = most_likely_states"
   ]
  },
  {
   "cell_type": "code",
   "execution_count": null,
   "metadata": {},
   "outputs": [],
   "source": [
    "plt.figure(figsize=(14, 4))\n",
    "plt.subplot(211)\n",
    "plt.plot(arHMM_state, 'black', linewidth=1)\n",
    "names = ['running', 'stationary sync', 'stationary desync']\n",
    "plt.yticks([0, 1, 2], names, fontsize=12)\n",
    "plt.title('AR-HMM inferred states')\n",
    "\n",
    "plt.subplot(212)\n",
    "plt.plot(state, 'black', linewidth=1)\n",
    "plt.yticks([0, 1, 2], names, fontsize=12)\n",
    "plt.title('true states')\n",
    "\n",
    "plt.tight_layout()\n",
    "plt.show()"
   ]
  },
  {
   "cell_type": "code",
   "execution_count": null,
   "metadata": {},
   "outputs": [
    {
     "name": "stdout",
     "output_type": "stream",
     "text": [
      "corr_strength_KK: 0.16690515261654337\n",
      "spearman_corr_strength_KK: 0.21518107116515492\n"
     ]
    },
    {
     "data": {
      "image/png": "[encoded data removed]",
      "text/plain": [
       "<Figure size 640x480 with 2 Axes>"
      ]
     },
     "metadata": {},
     "output_type": "display_data"
    }
   ],
   "source": [
    "state0_KK_strength = tools.multisession_NN_to_KK(\n",
    "    [arHMM_W[0]],\n",
    "    cell_type_order,\n",
    "    all_sessions_new_cell_type_id,\n",
    ")\n",
    "state0_KK_strength = tools.experiment_KK_to_eval_KK(state0_KK_strength, cell_type_order, eval_cell_type_order)\n",
    "\n",
    "corr_strength_KK = stats.pearsonr(KK_GT.flatten(), state0_KK_strength.flatten())[0]\n",
    "spearman_corr_strength_KK = stats.spearmanr(KK_GT.flatten(), state0_KK_strength.flatten())[0]\n",
    "print('corr_strength_KK:', corr_strength_KK)\n",
    "print('spearman_corr_strength_KK:', spearman_corr_strength_KK)\n",
    "\n",
    "plt.imshow(state0_KK_strength, cmap='RdBu_r', interpolation=\"nearest\", vmin=-np.max(np.abs(state0_KK_strength)), vmax=np.max(np.abs(state0_KK_strength)))\n",
    "plt.colorbar()\n",
    "plt.xticks([])\n",
    "plt.yticks([])\n",
    "plt.show()"
   ]
  },
  {
   "cell_type": "code",
   "execution_count": null,
   "metadata": {},
   "outputs": [
    {
     "name": "stdout",
     "output_type": "stream",
     "text": [
      "corr_strength_KK: -0.32502110110587334\n",
      "spearman_corr_strength_KK: -0.20339032753966696\n"
     ]
    },
    {
     "data": {
      "image/png": "[encoded data removed]",
      "text/plain": [
       "<Figure size 640x480 with 2 Axes>"
      ]
     },
     "metadata": {},
     "output_type": "display_data"
    }
   ],
   "source": [
    "state1_KK_strength = tools.multisession_NN_to_KK(\n",
    "    [arHMM_W[1]],\n",
    "    cell_type_order,\n",
    "    all_sessions_new_cell_type_id,\n",
    ")\n",
    "state1_KK_strength = tools.experiment_KK_to_eval_KK(state1_KK_strength, cell_type_order, eval_cell_type_order)\n",
    "\n",
    "corr_strength_KK = stats.pearsonr(KK_GT.flatten(), state1_KK_strength.flatten())[0]\n",
    "spearman_corr_strength_KK = stats.spearmanr(KK_GT.flatten(), state1_KK_strength.flatten())[0]\n",
    "print('corr_strength_KK:', corr_strength_KK)\n",
    "print('spearman_corr_strength_KK:', spearman_corr_strength_KK)\n",
    "\n",
    "plt.imshow(state1_KK_strength, cmap='RdBu_r', interpolation=\"nearest\", vmin=-np.max(np.abs(state1_KK_strength)), vmax=np.max(np.abs(state1_KK_strength)))\n",
    "plt.colorbar()\n",
    "plt.xticks([])\n",
    "plt.yticks([])\n",
    "plt.show()"
   ]
  },
  {
   "cell_type": "code",
   "execution_count": null,
   "metadata": {},
   "outputs": [
    {
     "name": "stdout",
     "output_type": "stream",
     "text": [
      "corr_strength_KK: 0.14295913592141143\n",
      "spearman_corr_strength_KK: 0.14443660941222727\n"
     ]
    },
    {
     "data": {
      "image/png": "[encoded data removed]",
      "text/plain": [
       "<Figure size 640x480 with 2 Axes>"
      ]
     },
     "metadata": {},
     "output_type": "display_data"
    }
   ],
   "source": [
    "state2_KK_strength = tools.multisession_NN_to_KK(\n",
    "    [arHMM_W[2]],\n",
    "    cell_type_order,\n",
    "    all_sessions_new_cell_type_id,\n",
    ")\n",
    "state2_KK_strength = tools.experiment_KK_to_eval_KK(state2_KK_strength, cell_type_order, eval_cell_type_order)\n",
    "\n",
    "corr_strength_KK = stats.pearsonr(KK_GT.flatten(), state2_KK_strength.flatten())[0]\n",
    "spearman_corr_strength_KK = stats.spearmanr(KK_GT.flatten(), state2_KK_strength.flatten())[0]\n",
    "print('corr_strength_KK:', corr_strength_KK)\n",
    "print('spearman_corr_strength_KK:', spearman_corr_strength_KK)\n",
    "\n",
    "plt.imshow(state2_KK_strength, cmap='RdBu_r', interpolation=\"nearest\", vmin=-np.max(np.abs(state2_KK_strength)), vmax=np.max(np.abs(state2_KK_strength)))\n",
    "plt.colorbar()\n",
    "plt.xticks([])\n",
    "plt.yticks([])\n",
    "plt.show()"
   ]
  },
  {
   "cell_type": "code",
   "execution_count": 36,
   "metadata": {},
   "outputs": [
    {
     "data": {
      "image/png": "[encoded data removed]",
      "text/plain": [
       "<Figure size 640x480 with 1 Axes>"
      ]
     },
     "metadata": {},
     "output_type": "display_data"
    },
    {
     "data": {
      "image/png": "[encoded data removed]",
      "text/plain": [
       "<Figure size 640x480 with 1 Axes>"
      ]
     },
     "metadata": {},
     "output_type": "display_data"
    },
    {
     "data": {
      "image/png": "[encoded data removed]",
      "text/plain": [
       "<Figure size 640x480 with 2 Axes>"
      ]
     },
     "metadata": {},
     "output_type": "display_data"
    }
   ],
   "source": [
    "# get one vmin and vmax for all states\n",
    "max_abs = np.max(np.abs([state0_KK_strength, state1_KK_strength, state2_KK_strength]))\n",
    "vmin_KK = -max_abs\n",
    "vmax_KK = max_abs\n",
    "\n",
    "plt.imshow(state0_KK_strength, cmap='RdBu_r', vmin=vmin_KK, vmax=vmax_KK)\n",
    "plt.xticks([])\n",
    "plt.yticks([])\n",
    "plt.show()\n",
    "plt.imshow(state1_KK_strength, cmap='RdBu_r', vmin=vmin_KK, vmax=vmax_KK)\n",
    "plt.xticks([])\n",
    "plt.yticks([])\n",
    "plt.show()\n",
    "plt.imshow(state2_KK_strength, cmap='RdBu_r', vmin=vmin_KK, vmax=vmax_KK)\n",
    "plt.colorbar()\n",
    "plt.xticks([])\n",
    "plt.yticks([])\n",
    "plt.show()"
   ]
  }
 ],
 "metadata": {
  "kernelspec": {
   "display_name": "NetFormer",
   "language": "python",
   "name": "python3"
  },
  "language_info": {
   "codemirror_mode": {
    "name": "ipython",
    "version": 3
   },
   "file_extension": ".py",
   "mimetype": "text/x-python",
   "name": "python",
   "nbconvert_exporter": "python",
   "pygments_lexer": "ipython3",
   "version": "3.9.16"
  }
 },
 "nbformat": 4,
 "nbformat_minor": 2
}
